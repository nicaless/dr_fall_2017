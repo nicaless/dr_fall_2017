{
 "cells": [
  {
   "cell_type": "code",
   "execution_count": 52,
   "metadata": {},
   "outputs": [],
   "source": [
    "import pandas as pd\n",
    "from pandas import DataFrame, concat\n",
    "\n",
    "from sklearn.cross_validation import train_test_split\n",
    "from sklearn.cross_validation import cross_val_score\n",
    "from sklearn.metrics import classification_report\n",
    "from sklearn.metrics import confusion_matrix\n",
    "\n",
    "from sklearn.linear_model import LogisticRegression\n",
    "from sklearn.preprocessing import StandardScaler\n",
    "from sklearn.cross_validation import cross_val_score\n",
    "from sklearn.cross_validation import train_test_split\n",
    "from sklearn.metrics import classification_report\n",
    "from sklearn.metrics import confusion_matrix\n",
    "from sklearn.metrics import roc_curve\n",
    "from sklearn.metrics import auc\n",
    "\n",
    "\n",
    "from sklearn.svm import SVC\n",
    "from sklearn.naive_bayes import GaussianNB\n",
    "from sklearn.tree import DecisionTreeClassifier\n"
   ]
  },
  {
   "cell_type": "code",
   "execution_count": 53,
   "metadata": {},
   "outputs": [],
   "source": [
    "# load data\n",
    "df = pd.read_csv(\"processed_data/drive4.csv\", index_col=0)"
   ]
  },
  {
   "cell_type": "code",
   "execution_count": 54,
   "metadata": {},
   "outputs": [
    {
     "data": {
      "text/html": [
       "<div>\n",
       "<style scoped>\n",
       "    .dataframe tbody tr th:only-of-type {\n",
       "        vertical-align: middle;\n",
       "    }\n",
       "\n",
       "    .dataframe tbody tr th {\n",
       "        vertical-align: top;\n",
       "    }\n",
       "\n",
       "    .dataframe thead th {\n",
       "        text-align: right;\n",
       "    }\n",
       "</style>\n",
       "<table border=\"1\" class=\"dataframe\">\n",
       "  <thead>\n",
       "    <tr style=\"text-align: right;\">\n",
       "      <th></th>\n",
       "      <th>x1</th>\n",
       "      <th>x2</th>\n",
       "      <th>y1</th>\n",
       "      <th>y2</th>\n",
       "      <th>object_type_Car</th>\n",
       "      <th>object_type_Van</th>\n",
       "      <th>static_dynamic_moving</th>\n",
       "      <th>static_dynamic_static</th>\n",
       "      <th>lat</th>\n",
       "      <th>lon</th>\n",
       "      <th>...</th>\n",
       "      <th>wu</th>\n",
       "      <th>pos_accuracy</th>\n",
       "      <th>vel_accuracy</th>\n",
       "      <th>navstat</th>\n",
       "      <th>numsats</th>\n",
       "      <th>posmode</th>\n",
       "      <th>velmode</th>\n",
       "      <th>orimode</th>\n",
       "      <th>Break</th>\n",
       "      <th>frame</th>\n",
       "    </tr>\n",
       "  </thead>\n",
       "  <tbody>\n",
       "    <tr>\n",
       "      <th>0</th>\n",
       "      <td>181.47</td>\n",
       "      <td>201.45</td>\n",
       "      <td>425.60</td>\n",
       "      <td>464.04</td>\n",
       "      <td>1.0</td>\n",
       "      <td>0.0</td>\n",
       "      <td>0.0</td>\n",
       "      <td>1.0</td>\n",
       "      <td>48.959218</td>\n",
       "      <td>8.405842</td>\n",
       "      <td>...</td>\n",
       "      <td>-0.000932</td>\n",
       "      <td>0.073593</td>\n",
       "      <td>0.013454</td>\n",
       "      <td>4.0</td>\n",
       "      <td>10.0</td>\n",
       "      <td>5.0</td>\n",
       "      <td>5.0</td>\n",
       "      <td>6.0</td>\n",
       "      <td>False</td>\n",
       "      <td>0</td>\n",
       "    </tr>\n",
       "    <tr>\n",
       "      <th>1</th>\n",
       "      <td>181.47</td>\n",
       "      <td>201.45</td>\n",
       "      <td>425.63</td>\n",
       "      <td>464.06</td>\n",
       "      <td>1.0</td>\n",
       "      <td>0.0</td>\n",
       "      <td>0.0</td>\n",
       "      <td>1.0</td>\n",
       "      <td>48.959218</td>\n",
       "      <td>8.405842</td>\n",
       "      <td>...</td>\n",
       "      <td>-0.000328</td>\n",
       "      <td>0.073593</td>\n",
       "      <td>0.013454</td>\n",
       "      <td>4.0</td>\n",
       "      <td>10.0</td>\n",
       "      <td>5.0</td>\n",
       "      <td>5.0</td>\n",
       "      <td>6.0</td>\n",
       "      <td>False</td>\n",
       "      <td>1</td>\n",
       "    </tr>\n",
       "    <tr>\n",
       "      <th>2</th>\n",
       "      <td>181.47</td>\n",
       "      <td>201.45</td>\n",
       "      <td>425.65</td>\n",
       "      <td>464.09</td>\n",
       "      <td>1.0</td>\n",
       "      <td>0.0</td>\n",
       "      <td>0.0</td>\n",
       "      <td>1.0</td>\n",
       "      <td>48.959218</td>\n",
       "      <td>8.405842</td>\n",
       "      <td>...</td>\n",
       "      <td>-0.000487</td>\n",
       "      <td>0.073593</td>\n",
       "      <td>0.013454</td>\n",
       "      <td>4.0</td>\n",
       "      <td>10.0</td>\n",
       "      <td>5.0</td>\n",
       "      <td>5.0</td>\n",
       "      <td>6.0</td>\n",
       "      <td>True</td>\n",
       "      <td>2</td>\n",
       "    </tr>\n",
       "    <tr>\n",
       "      <th>3</th>\n",
       "      <td>181.47</td>\n",
       "      <td>201.45</td>\n",
       "      <td>425.68</td>\n",
       "      <td>464.12</td>\n",
       "      <td>1.0</td>\n",
       "      <td>0.0</td>\n",
       "      <td>0.0</td>\n",
       "      <td>1.0</td>\n",
       "      <td>48.959218</td>\n",
       "      <td>8.405842</td>\n",
       "      <td>...</td>\n",
       "      <td>0.001067</td>\n",
       "      <td>0.073593</td>\n",
       "      <td>0.013454</td>\n",
       "      <td>4.0</td>\n",
       "      <td>10.0</td>\n",
       "      <td>5.0</td>\n",
       "      <td>5.0</td>\n",
       "      <td>6.0</td>\n",
       "      <td>False</td>\n",
       "      <td>3</td>\n",
       "    </tr>\n",
       "    <tr>\n",
       "      <th>4</th>\n",
       "      <td>181.47</td>\n",
       "      <td>201.45</td>\n",
       "      <td>425.71</td>\n",
       "      <td>464.14</td>\n",
       "      <td>1.0</td>\n",
       "      <td>0.0</td>\n",
       "      <td>0.0</td>\n",
       "      <td>1.0</td>\n",
       "      <td>48.959218</td>\n",
       "      <td>8.405842</td>\n",
       "      <td>...</td>\n",
       "      <td>-0.000645</td>\n",
       "      <td>0.073593</td>\n",
       "      <td>0.013454</td>\n",
       "      <td>4.0</td>\n",
       "      <td>10.0</td>\n",
       "      <td>5.0</td>\n",
       "      <td>5.0</td>\n",
       "      <td>6.0</td>\n",
       "      <td>False</td>\n",
       "      <td>4</td>\n",
       "    </tr>\n",
       "  </tbody>\n",
       "</table>\n",
       "<p>5 rows × 40 columns</p>\n",
       "</div>"
      ],
      "text/plain": [
       "       x1      x2      y1      y2  object_type_Car  object_type_Van  \\\n",
       "0  181.47  201.45  425.60  464.04              1.0              0.0   \n",
       "1  181.47  201.45  425.63  464.06              1.0              0.0   \n",
       "2  181.47  201.45  425.65  464.09              1.0              0.0   \n",
       "3  181.47  201.45  425.68  464.12              1.0              0.0   \n",
       "4  181.47  201.45  425.71  464.14              1.0              0.0   \n",
       "\n",
       "   static_dynamic_moving  static_dynamic_static        lat       lon  ...    \\\n",
       "0                    0.0                    1.0  48.959218  8.405842  ...     \n",
       "1                    0.0                    1.0  48.959218  8.405842  ...     \n",
       "2                    0.0                    1.0  48.959218  8.405842  ...     \n",
       "3                    0.0                    1.0  48.959218  8.405842  ...     \n",
       "4                    0.0                    1.0  48.959218  8.405842  ...     \n",
       "\n",
       "         wu  pos_accuracy  vel_accuracy  navstat  numsats  posmode  velmode  \\\n",
       "0 -0.000932      0.073593      0.013454      4.0     10.0      5.0      5.0   \n",
       "1 -0.000328      0.073593      0.013454      4.0     10.0      5.0      5.0   \n",
       "2 -0.000487      0.073593      0.013454      4.0     10.0      5.0      5.0   \n",
       "3  0.001067      0.073593      0.013454      4.0     10.0      5.0      5.0   \n",
       "4 -0.000645      0.073593      0.013454      4.0     10.0      5.0      5.0   \n",
       "\n",
       "   orimode  Break  frame  \n",
       "0      6.0  False      0  \n",
       "1      6.0  False      1  \n",
       "2      6.0   True      2  \n",
       "3      6.0  False      3  \n",
       "4      6.0  False      4  \n",
       "\n",
       "[5 rows x 40 columns]"
      ]
     },
     "execution_count": 54,
     "metadata": {},
     "output_type": "execute_result"
    }
   ],
   "source": [
    "df.head()"
   ]
  },
  {
   "cell_type": "code",
   "execution_count": 55,
   "metadata": {},
   "outputs": [
    {
     "data": {
      "text/plain": [
       "Index(['x1', 'x2', 'y1', 'y2', 'object_type_Car', 'object_type_Van',\n",
       "       'static_dynamic_moving', 'static_dynamic_static', 'lat', 'lon', 'alt',\n",
       "       'roll', 'pitch', 'yaw', 'vn', 've', 'vf', 'vl', 'vu', 'ax', 'ay', 'az',\n",
       "       'af', 'al', 'au', 'wx', 'wy', 'wz', 'wf', 'wl', 'wu', 'pos_accuracy',\n",
       "       'vel_accuracy', 'navstat', 'numsats', 'posmode', 'velmode', 'orimode',\n",
       "       'Break', 'frame'],\n",
       "      dtype='object')"
      ]
     },
     "execution_count": 55,
     "metadata": {},
     "output_type": "execute_result"
    }
   ],
   "source": [
    "df.columns"
   ]
  },
  {
   "cell_type": "code",
   "execution_count": 56,
   "metadata": {},
   "outputs": [],
   "source": [
    "y = df['Break'].values\n",
    "del df['Break']\n",
    "del df['frame']\n",
    "del df['af']"
   ]
  },
  {
   "cell_type": "code",
   "execution_count": 57,
   "metadata": {},
   "outputs": [],
   "source": [
    "scaler = StandardScaler()\n",
    "features_norm = scaler.fit_transform(df)\n",
    "\n",
    "trainX, testX, trainy, testy = train_test_split(features_norm, y, test_size=0.2, random_state=1)"
   ]
  },
  {
   "cell_type": "code",
   "execution_count": 58,
   "metadata": {},
   "outputs": [
    {
     "name": "stdout",
     "output_type": "stream",
     "text": [
      "0.628694581281\n"
     ]
    }
   ],
   "source": [
    "model_svc = SVC()\n",
    "print(cross_val_score(model_svc,trainX,trainy,cv=10).mean())"
   ]
  },
  {
   "cell_type": "code",
   "execution_count": 59,
   "metadata": {},
   "outputs": [
    {
     "name": "stdout",
     "output_type": "stream",
     "text": [
      "0.566009852217\n"
     ]
    }
   ],
   "source": [
    "model_nb = GaussianNB()\n",
    "print(cross_val_score(model_nb,trainX,trainy,cv=10).mean())"
   ]
  },
  {
   "cell_type": "code",
   "execution_count": 61,
   "metadata": {},
   "outputs": [
    {
     "name": "stdout",
     "output_type": "stream",
     "text": [
      "0.749536679537\n"
     ]
    }
   ],
   "source": [
    "model_dt = DecisionTreeClassifier(max_depth=3, random_state=1)\n",
    "print(cross_val_score(model_dt,df,y,cv=10).mean())"
   ]
  },
  {
   "cell_type": "code",
   "execution_count": null,
   "metadata": {},
   "outputs": [],
   "source": []
  },
  {
   "cell_type": "code",
   "execution_count": null,
   "metadata": {},
   "outputs": [],
   "source": []
  }
 ],
 "metadata": {
  "kernelspec": {
   "display_name": "Python 3",
   "language": "python",
   "name": "python3"
  },
  "language_info": {
   "codemirror_mode": {
    "name": "ipython",
    "version": 3
   },
   "file_extension": ".py",
   "mimetype": "text/x-python",
   "name": "python",
   "nbconvert_exporter": "python",
   "pygments_lexer": "ipython3",
   "version": "3.6.2"
  }
 },
 "nbformat": 4,
 "nbformat_minor": 2
}
