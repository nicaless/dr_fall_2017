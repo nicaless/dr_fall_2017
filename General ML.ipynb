{
 "cells": [
  {
   "cell_type": "code",
   "execution_count": 2,
   "metadata": {},
   "outputs": [
    {
     "name": "stderr",
     "output_type": "stream",
     "text": [
      "/Users/nicole/anaconda/envs/dr_fall_2107/lib/python3.6/site-packages/sklearn/cross_validation.py:41: DeprecationWarning: This module was deprecated in version 0.18 in favor of the model_selection module into which all the refactored classes and functions are moved. Also note that the interface of the new CV iterators are different from that of this module. This module will be removed in 0.20.\n",
      "  \"This module will be removed in 0.20.\", DeprecationWarning)\n"
     ]
    }
   ],
   "source": [
    "import pandas as pd\n",
    "from pandas import DataFrame, concat\n",
    "\n",
    "from sklearn.cross_validation import train_test_split\n",
    "from sklearn.cross_validation import cross_val_score\n",
    "from sklearn.metrics import classification_report\n",
    "from sklearn.metrics import confusion_matrix\n",
    "\n",
    "from sklearn.linear_model import LogisticRegression\n",
    "from sklearn.preprocessing import StandardScaler\n",
    "from sklearn.cross_validation import cross_val_score\n",
    "from sklearn.cross_validation import train_test_split\n",
    "from sklearn.metrics import classification_report\n",
    "from sklearn.metrics import confusion_matrix\n",
    "from sklearn.metrics import roc_curve\n",
    "from sklearn.metrics import auc\n",
    "\n",
    "\n",
    "from sklearn.svm import SVC\n",
    "from sklearn.naive_bayes import GaussianNB\n",
    "from sklearn.tree import DecisionTreeClassifier\n"
   ]
  },
  {
   "cell_type": "code",
   "execution_count": 3,
   "metadata": {},
   "outputs": [],
   "source": [
    "# load data\n",
    "df = pd.read_csv(\"processed_data/drive4.csv\", index_col=0)"
   ]
  },
  {
   "cell_type": "code",
   "execution_count": 5,
   "metadata": {},
   "outputs": [
    {
     "data": {
      "text/plain": [
       "Index(['x1', 'x2', 'y1', 'y2', 'object_type_Car', 'object_type_Van',\n",
       "       'static_dynamic_moving', 'static_dynamic_static', 'lat', 'lon', 'alt',\n",
       "       'roll', 'pitch', 'yaw', 'vn', 've', 'vf', 'vl', 'vu', 'ax', 'ay', 'az',\n",
       "       'af', 'al', 'au', 'wx', 'wy', 'wz', 'wf', 'wl', 'wu', 'pos_accuracy',\n",
       "       'vel_accuracy', 'navstat', 'numsats', 'posmode', 'velmode', 'orimode',\n",
       "       'Break', 'frame'],\n",
       "      dtype='object')"
      ]
     },
     "execution_count": 5,
     "metadata": {},
     "output_type": "execute_result"
    }
   ],
   "source": [
    "df.columns"
   ]
  },
  {
   "cell_type": "code",
   "execution_count": 9,
   "metadata": {},
   "outputs": [
    {
     "data": {
      "text/html": [
       "<div>\n",
       "<style scoped>\n",
       "    .dataframe tbody tr th:only-of-type {\n",
       "        vertical-align: middle;\n",
       "    }\n",
       "\n",
       "    .dataframe tbody tr th {\n",
       "        vertical-align: top;\n",
       "    }\n",
       "\n",
       "    .dataframe thead th {\n",
       "        text-align: right;\n",
       "    }\n",
       "</style>\n",
       "<table border=\"1\" class=\"dataframe\">\n",
       "  <thead>\n",
       "    <tr style=\"text-align: right;\">\n",
       "      <th></th>\n",
       "      <th>x1</th>\n",
       "      <th>x2</th>\n",
       "      <th>y1</th>\n",
       "      <th>y2</th>\n",
       "      <th>object_type_Car</th>\n",
       "      <th>object_type_Van</th>\n",
       "      <th>static_dynamic_moving</th>\n",
       "      <th>static_dynamic_static</th>\n",
       "      <th>vf</th>\n",
       "      <th>af</th>\n",
       "      <th>Break</th>\n",
       "    </tr>\n",
       "  </thead>\n",
       "  <tbody>\n",
       "    <tr>\n",
       "      <th>0</th>\n",
       "      <td>181.47</td>\n",
       "      <td>201.45</td>\n",
       "      <td>425.60</td>\n",
       "      <td>464.04</td>\n",
       "      <td>1.0</td>\n",
       "      <td>0.0</td>\n",
       "      <td>0.0</td>\n",
       "      <td>1.0</td>\n",
       "      <td>0.009037</td>\n",
       "      <td>-0.006263</td>\n",
       "      <td>False</td>\n",
       "    </tr>\n",
       "    <tr>\n",
       "      <th>1</th>\n",
       "      <td>181.47</td>\n",
       "      <td>201.45</td>\n",
       "      <td>425.63</td>\n",
       "      <td>464.06</td>\n",
       "      <td>1.0</td>\n",
       "      <td>0.0</td>\n",
       "      <td>0.0</td>\n",
       "      <td>1.0</td>\n",
       "      <td>0.009495</td>\n",
       "      <td>0.005504</td>\n",
       "      <td>False</td>\n",
       "    </tr>\n",
       "    <tr>\n",
       "      <th>2</th>\n",
       "      <td>181.47</td>\n",
       "      <td>201.45</td>\n",
       "      <td>425.65</td>\n",
       "      <td>464.09</td>\n",
       "      <td>1.0</td>\n",
       "      <td>0.0</td>\n",
       "      <td>0.0</td>\n",
       "      <td>1.0</td>\n",
       "      <td>0.010436</td>\n",
       "      <td>0.011462</td>\n",
       "      <td>True</td>\n",
       "    </tr>\n",
       "    <tr>\n",
       "      <th>3</th>\n",
       "      <td>181.47</td>\n",
       "      <td>201.45</td>\n",
       "      <td>425.68</td>\n",
       "      <td>464.12</td>\n",
       "      <td>1.0</td>\n",
       "      <td>0.0</td>\n",
       "      <td>0.0</td>\n",
       "      <td>1.0</td>\n",
       "      <td>0.009914</td>\n",
       "      <td>-0.014202</td>\n",
       "      <td>False</td>\n",
       "    </tr>\n",
       "    <tr>\n",
       "      <th>4</th>\n",
       "      <td>181.47</td>\n",
       "      <td>201.45</td>\n",
       "      <td>425.71</td>\n",
       "      <td>464.14</td>\n",
       "      <td>1.0</td>\n",
       "      <td>0.0</td>\n",
       "      <td>0.0</td>\n",
       "      <td>1.0</td>\n",
       "      <td>0.009471</td>\n",
       "      <td>0.018156</td>\n",
       "      <td>False</td>\n",
       "    </tr>\n",
       "  </tbody>\n",
       "</table>\n",
       "</div>"
      ],
      "text/plain": [
       "       x1      x2      y1      y2  object_type_Car  object_type_Van  \\\n",
       "0  181.47  201.45  425.60  464.04              1.0              0.0   \n",
       "1  181.47  201.45  425.63  464.06              1.0              0.0   \n",
       "2  181.47  201.45  425.65  464.09              1.0              0.0   \n",
       "3  181.47  201.45  425.68  464.12              1.0              0.0   \n",
       "4  181.47  201.45  425.71  464.14              1.0              0.0   \n",
       "\n",
       "   static_dynamic_moving  static_dynamic_static        vf        af  Break  \n",
       "0                    0.0                    1.0  0.009037 -0.006263  False  \n",
       "1                    0.0                    1.0  0.009495  0.005504  False  \n",
       "2                    0.0                    1.0  0.010436  0.011462   True  \n",
       "3                    0.0                    1.0  0.009914 -0.014202  False  \n",
       "4                    0.0                    1.0  0.009471  0.018156  False  "
      ]
     },
     "execution_count": 9,
     "metadata": {},
     "output_type": "execute_result"
    }
   ],
   "source": [
    "df[['x1', 'x2', 'y1', 'y2', 'object_type_Car', 'object_type_Van', 'static_dynamic_moving', \n",
    "    'static_dynamic_static', 'vf', 'af', 'Break']].head()"
   ]
  },
  {
   "cell_type": "code",
   "execution_count": 55,
   "metadata": {},
   "outputs": [
    {
     "data": {
      "text/plain": [
       "Index(['x1', 'x2', 'y1', 'y2', 'object_type_Car', 'object_type_Van',\n",
       "       'static_dynamic_moving', 'static_dynamic_static', 'lat', 'lon', 'alt',\n",
       "       'roll', 'pitch', 'yaw', 'vn', 've', 'vf', 'vl', 'vu', 'ax', 'ay', 'az',\n",
       "       'af', 'al', 'au', 'wx', 'wy', 'wz', 'wf', 'wl', 'wu', 'pos_accuracy',\n",
       "       'vel_accuracy', 'navstat', 'numsats', 'posmode', 'velmode', 'orimode',\n",
       "       'Break', 'frame'],\n",
       "      dtype='object')"
      ]
     },
     "execution_count": 55,
     "metadata": {},
     "output_type": "execute_result"
    }
   ],
   "source": [
    "df.columns"
   ]
  },
  {
   "cell_type": "code",
   "execution_count": 56,
   "metadata": {},
   "outputs": [],
   "source": [
    "y = df['Break'].values\n",
    "del df['Break']\n",
    "del df['frame']\n",
    "del df['af']"
   ]
  },
  {
   "cell_type": "code",
   "execution_count": 57,
   "metadata": {},
   "outputs": [],
   "source": [
    "scaler = StandardScaler()\n",
    "features_norm = scaler.fit_transform(df)\n",
    "\n",
    "trainX, testX, trainy, testy = train_test_split(features_norm, y, test_size=0.2, random_state=1)"
   ]
  },
  {
   "cell_type": "code",
   "execution_count": 58,
   "metadata": {},
   "outputs": [
    {
     "name": "stdout",
     "output_type": "stream",
     "text": [
      "0.628694581281\n"
     ]
    }
   ],
   "source": [
    "model_svc = SVC()\n",
    "print(cross_val_score(model_svc,trainX,trainy,cv=10).mean())"
   ]
  },
  {
   "cell_type": "code",
   "execution_count": 59,
   "metadata": {},
   "outputs": [
    {
     "name": "stdout",
     "output_type": "stream",
     "text": [
      "0.566009852217\n"
     ]
    }
   ],
   "source": [
    "model_nb = GaussianNB()\n",
    "print(cross_val_score(model_nb,trainX,trainy,cv=10).mean())"
   ]
  },
  {
   "cell_type": "code",
   "execution_count": 61,
   "metadata": {},
   "outputs": [
    {
     "name": "stdout",
     "output_type": "stream",
     "text": [
      "0.749536679537\n"
     ]
    }
   ],
   "source": [
    "model_dt = DecisionTreeClassifier(max_depth=3, random_state=1)\n",
    "print(cross_val_score(model_dt,df,y,cv=10).mean())"
   ]
  },
  {
   "cell_type": "code",
   "execution_count": null,
   "metadata": {},
   "outputs": [],
   "source": []
  },
  {
   "cell_type": "code",
   "execution_count": null,
   "metadata": {},
   "outputs": [],
   "source": []
  }
 ],
 "metadata": {
  "kernelspec": {
   "display_name": "Python 3",
   "language": "python",
   "name": "python3"
  },
  "language_info": {
   "codemirror_mode": {
    "name": "ipython",
    "version": 3
   },
   "file_extension": ".py",
   "mimetype": "text/x-python",
   "name": "python",
   "nbconvert_exporter": "python",
   "pygments_lexer": "ipython3",
   "version": "3.6.2"
  }
 },
 "nbformat": 4,
 "nbformat_minor": 2
}
