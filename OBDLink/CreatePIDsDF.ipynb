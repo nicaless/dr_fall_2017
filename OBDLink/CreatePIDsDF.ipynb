{
 "cells": [
  {
   "cell_type": "code",
   "execution_count": 40,
   "metadata": {
    "collapsed": true
   },
   "outputs": [],
   "source": [
    "import string\n",
    "import pandas\n",
    "printable = set(string.printable)\n",
    "printable.remove('\\n')\n",
    "printable.remove('#')"
   ]
  },
  {
   "cell_type": "code",
   "execution_count": 42,
   "metadata": {},
   "outputs": [],
   "source": [
    "def CreatePIDsDF(filename):\n",
    "    starttime = ''\n",
    "    fuelcalcmethod = ''\n",
    "    colnames = []\n",
    "    rows = []\n",
    "\n",
    "    with open(filename) as f:\n",
    "        i = 0\n",
    "        for line in f:\n",
    "            if i == 0:\n",
    "                starttime = ''.join(filter(lambda x: x in printable, line))\n",
    "            if i == 1:\n",
    "                fuelcalcmethod = ''.join(filter(lambda x: x in printable, line))\n",
    "            if i == 2:\n",
    "                colnames = [x.strip() for x in line.split(',')]\n",
    "            if i > 2:\n",
    "                rows.append([float(x.strip()) for x in line.split(',')])\n",
    "            i = i + 1\n",
    "    \n",
    "    \n",
    "    df = pandas.DataFrame(rows, columns=colnames)\n",
    "    \n",
    "    return {'StartTime': starttime,\n",
    "            'FuelCalcMethod': fuelcalcmethod,\n",
    "           'ts': df}"
   ]
  },
  {
   "cell_type": "code",
   "execution_count": null,
   "metadata": {
    "collapsed": true
   },
   "outputs": [],
   "source": []
  }
 ],
 "metadata": {
  "kernelspec": {
   "display_name": "Python 3",
   "language": "python",
   "name": "python3"
  },
  "language_info": {
   "codemirror_mode": {
    "name": "ipython",
    "version": 3
   },
   "file_extension": ".py",
   "mimetype": "text/x-python",
   "name": "python",
   "nbconvert_exporter": "python",
   "pygments_lexer": "ipython3",
   "version": "3.6.1"
  }
 },
 "nbformat": 4,
 "nbformat_minor": 2
}
